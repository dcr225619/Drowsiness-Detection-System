{
 "cells": [
  {
   "cell_type": "code",
   "execution_count": null,
   "id": "a734baa0",
   "metadata": {},
   "outputs": [],
   "source": [
    "import dlib\n",
    "import cv2\n",
    "import tensorflow as tf\n",
    "import numpy as np"
   ]
  },
  {
   "cell_type": "code",
   "execution_count": null,
   "id": "0b6857db",
   "metadata": {},
   "outputs": [],
   "source": [
    "# load face detector and 68_face_landmarks feature extraction model\n",
    "detector = dlib.get_frontal_face_detector()\n",
    "predictor = dlib.shape_predictor(\"shape_predictor_68_face_landmarks.dat\")\n"
   ]
  },
  {
   "cell_type": "code",
   "execution_count": 3,
   "id": "8cb24b00",
   "metadata": {},
   "outputs": [
    {
     "name": "stderr",
     "output_type": "stream",
     "text": [
      "WARNING:absl:Compiled the loaded model, but the compiled metrics have yet to be built. `model.compile_metrics` will be empty until you train or evaluate the model.\n"
     ]
    }
   ],
   "source": [
    "\n",
    "# pretrained CNN\n",
    "model = tf.keras.models.load_model(\"fatigue_detection_CNN.h5\")"
   ]
  },
  {
   "cell_type": "code",
   "execution_count": null,
   "id": "66b3d30b",
   "metadata": {},
   "outputs": [
    {
     "name": "stdout",
     "output_type": "stream",
     "text": [
      "\u001b[1m1/1\u001b[0m \u001b[32m━━━━━━━━━━━━━━━━━━━━\u001b[0m\u001b[37m\u001b[0m \u001b[1m0s\u001b[0m 241ms/step\n",
      "\u001b[1m1/1\u001b[0m \u001b[32m━━━━━━━━━━━━━━━━━━━━\u001b[0m\u001b[37m\u001b[0m \u001b[1m0s\u001b[0m 56ms/step\n",
      "\u001b[1m1/1\u001b[0m \u001b[32m━━━━━━━━━━━━━━━━━━━━\u001b[0m\u001b[37m\u001b[0m \u001b[1m0s\u001b[0m 49ms/step\n",
      "\u001b[1m1/1\u001b[0m \u001b[32m━━━━━━━━━━━━━━━━━━━━\u001b[0m\u001b[37m\u001b[0m \u001b[1m0s\u001b[0m 49ms/step\n",
      "\u001b[1m1/1\u001b[0m \u001b[32m━━━━━━━━━━━━━━━━━━━━\u001b[0m\u001b[37m\u001b[0m \u001b[1m0s\u001b[0m 50ms/step\n",
      "\u001b[1m1/1\u001b[0m \u001b[32m━━━━━━━━━━━━━━━━━━━━\u001b[0m\u001b[37m\u001b[0m \u001b[1m0s\u001b[0m 49ms/step\n"
     ]
    },
    {
     "ename": "error",
     "evalue": "OpenCV(4.11.0) D:\\a\\opencv-python\\opencv-python\\opencv\\modules\\imgproc\\src\\resize.cpp:4208: error: (-215:Assertion failed) !ssize.empty() in function 'cv::resize'\n",
     "output_type": "error",
     "traceback": [
      "\u001b[31m---------------------------------------------------------------------------\u001b[39m",
      "\u001b[31merror\u001b[39m                                     Traceback (most recent call last)",
      "\u001b[36mCell\u001b[39m\u001b[36m \u001b[39m\u001b[32mIn[5]\u001b[39m\u001b[32m, line 40\u001b[39m\n\u001b[32m     38\u001b[39m x, y, w, h = (face.left(), face.top(), face.width(), face.height())  \u001b[38;5;66;03m# get face region\u001b[39;00m\n\u001b[32m     39\u001b[39m face_img = frame[y:y+h, x:x+w]  \u001b[38;5;66;03m# cut\u001b[39;00m\n\u001b[32m---> \u001b[39m\u001b[32m40\u001b[39m face_img = \u001b[43mcv2\u001b[49m\u001b[43m.\u001b[49m\u001b[43mresize\u001b[49m\u001b[43m(\u001b[49m\u001b[43mface_img\u001b[49m\u001b[43m,\u001b[49m\u001b[43m \u001b[49m\u001b[43m(\u001b[49m\u001b[43mIMG_SIZE\u001b[49m\u001b[43m,\u001b[49m\u001b[43m \u001b[49m\u001b[43mIMG_SIZE\u001b[49m\u001b[43m)\u001b[49m\u001b[43m)\u001b[49m / \u001b[32m255.0\u001b[39m \n\u001b[32m     41\u001b[39m face_img = np.expand_dims(face_img, axis=\u001b[32m0\u001b[39m)\n\u001b[32m     43\u001b[39m cnn_prediction = model.predict(face_img)[\u001b[32m0\u001b[39m][\u001b[32m0\u001b[39m]\n",
      "\u001b[31merror\u001b[39m: OpenCV(4.11.0) D:\\a\\opencv-python\\opencv-python\\opencv\\modules\\imgproc\\src\\resize.cpp:4208: error: (-215:Assertion failed) !ssize.empty() in function 'cv::resize'\n"
     ]
    },
    {
     "ename": "",
     "evalue": "",
     "output_type": "error",
     "traceback": [
      "\u001b[1;31m在当前单元格或上一个单元格中执行代码时 Kernel 崩溃。\n",
      "\u001b[1;31m请查看单元格中的代码，以确定故障的可能原因。\n",
      "\u001b[1;31m单击<a href='https://aka.ms/vscodeJupyterKernelCrash'>此处</a>了解详细信息。\n",
      "\u001b[1;31m有关更多详细信息，请查看 Jupyter <a href='command:jupyter.viewOutput'>log</a>。"
     ]
    }
   ],
   "source": [
    "# parameters\n",
    "IMG_SIZE = 145  # CNN input size\n",
    "\n",
    "frame_counter = 0\n",
    "\n",
    "cap = cv2.VideoCapture(0)\n",
    "\n",
    "while True:\n",
    "    ret, frame = cap.read()\n",
    "    if not ret:\n",
    "        break\n",
    "    \n",
    "    # dlib requires gray pic\n",
    "    gray = cv2.cvtColor(frame, cv2.COLOR_BGR2GRAY)\n",
    "    \n",
    "    # faces detector\n",
    "    faces = detector(gray)\n",
    "    \n",
    "    for face in faces:\n",
    "\n",
    "        # CNN preprocessing\n",
    "        x, y, w, h = (face.left(), face.top(), face.width(), face.height())  # get face region\n",
    "        face_img = frame[y:y+h, x:x+w]  # cut\n",
    "        face_img = cv2.resize(face_img, (IMG_SIZE, IMG_SIZE)) / 255.0 \n",
    "        face_img = np.expand_dims(face_img, axis=0)\n",
    "        \n",
    "        cnn_prediction = model.predict(face_img)[0][0]\n",
    "        \n",
    "        # if cnn predicts as fatigue or ear less than threshold\n",
    "\n",
    "        if cnn_prediction < 0.5:\n",
    "            status = \"Fatigue Detected!\"\n",
    "            color = (0, 0, 255)\n",
    "            # playsound(\"alarm.wav\")\n",
    "        else:\n",
    "            status = \"Active\"\n",
    "            color = (0, 255, 0)\n",
    "        \n",
    "        # show informations on frame\n",
    "        cv2.putText(frame, status, (50, 50), cv2.FONT_HERSHEY_SIMPLEX, 1, color, 2)\n",
    "    \n",
    "    # results\n",
    "    cv2.imshow(\"Fatigue Detection\", frame)\n",
    "    \n",
    "    # press 'q' to quit\n",
    "    if cv2.waitKey(1) & 0xFF == ord('q'):\n",
    "        break\n",
    "\n",
    "cap.release()\n",
    "cv2.destroyAllWindows()\n"
   ]
  }
 ],
 "metadata": {
  "language_info": {
   "name": "python"
  }
 },
 "nbformat": 4,
 "nbformat_minor": 5
}
