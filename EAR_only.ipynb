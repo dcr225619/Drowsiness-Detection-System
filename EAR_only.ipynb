{
 "cells": [
  {
   "cell_type": "code",
   "execution_count": 1,
   "id": "a734baa0",
   "metadata": {},
   "outputs": [],
   "source": [
    "\n",
    "from scipy.spatial import distance\n",
    "from imutils import face_utils\n",
    "import imutils\n",
    "import dlib\n",
    "import cv2\n",
    "import tensorflow as tf\n",
    "import numpy as np\n",
    "import time\n",
    "from playsound import playsound"
   ]
  },
  {
   "cell_type": "code",
   "execution_count": 2,
   "id": "0b6857db",
   "metadata": {},
   "outputs": [],
   "source": [
    "\n",
    "# load face detector and 68_face_landmarks feature extraction model\n",
    "detector = dlib.get_frontal_face_detector()\n",
    "predictor = dlib.shape_predictor(\"shape_predictor_68_face_landmarks.dat\")\n",
    "\n",
    "# eye coordinate\n",
    "LEFT_EYE = list(range(42, 48))\n",
    "RIGHT_EYE = list(range(36, 42))\n"
   ]
  },
  {
   "cell_type": "code",
   "execution_count": 3,
   "id": "0052d8da",
   "metadata": {},
   "outputs": [],
   "source": [
    "def eye_aspect_ratio(eye):\n",
    "\tA = distance.euclidean(eye[1], eye[5])\n",
    "\tB = distance.euclidean(eye[2], eye[4])\n",
    "\tC = distance.euclidean(eye[0], eye[3])\n",
    "\tear = (A + B) / (2.0 * C)\n",
    "\treturn ear"
   ]
  },
  {
   "cell_type": "code",
   "execution_count": 4,
   "id": "e58151ed",
   "metadata": {},
   "outputs": [],
   "source": [
    "# parameters\n",
    "EYE_AR_THRESH = 0.2  # EAR threshold\n",
    "EYE_AR_CONSEC_FRAMES = 20  # activate warning after closing eyes for more than 20 frames\n",
    "IMG_SIZE = 145  # CNN input size\n",
    "\n",
    "frame_counter = 0\n",
    "\n",
    "cap = cv2.VideoCapture(0)\n",
    "\n",
    "while True:\n",
    "    ret, frame = cap.read()\n",
    "    if not ret:\n",
    "        break\n",
    "    \n",
    "    # dlib requires gray pic\n",
    "    gray = cv2.cvtColor(frame, cv2.COLOR_BGR2GRAY)\n",
    "    \n",
    "    # faces detector\n",
    "    faces = detector(gray)\n",
    "    \n",
    "    for face in faces:\n",
    "        shape = predictor(gray, face)  # feature points\n",
    "        shape_np = np.array([(shape.part(i).x, shape.part(i).y) for i in range(68)])\n",
    "\n",
    "        left_eye = shape_np[LEFT_EYE]\n",
    "        right_eye = shape_np[RIGHT_EYE]\n",
    "\n",
    "        # EAR\n",
    "        left_EAR = eye_aspect_ratio(left_eye)\n",
    "        right_EAR = eye_aspect_ratio(right_eye)\n",
    "        avg_EAR = (left_EAR + right_EAR) / 2.0\n",
    "\n",
    "        # plot eyes zone\n",
    "        cv2.polylines(frame, [left_eye], True, (0, 255, 0), 1)\n",
    "        cv2.polylines(frame, [right_eye], True, (0, 255, 0), 1)\n",
    "\n",
    "        \n",
    "        # if cnn predicts as fatigue or ear less than threshold\n",
    "        if avg_EAR < EYE_AR_THRESH:\n",
    "            frame_counter += 1\n",
    "\n",
    "        else:\n",
    "            frame_counter = 0\n",
    "\n",
    "        if frame_counter >= EYE_AR_CONSEC_FRAMES:\n",
    "                status = \"Fatigue Detected!\"\n",
    "                color = (0, 0, 255)\n",
    "                # playsound(\"alarm.wav\")\n",
    "        else:\n",
    "            status = \"Active\"\n",
    "            color = (0, 255, 0)\n",
    "        \n",
    "        # show informations on frame\n",
    "        cv2.putText(frame, status, (50, 50), cv2.FONT_HERSHEY_SIMPLEX, 1, color, 2)\n",
    "    \n",
    "    # results\n",
    "    cv2.imshow(\"Fatigue Detection\", frame)\n",
    "    \n",
    "    # press 'q' to quit\n",
    "    if cv2.waitKey(1) & 0xFF == ord('q'):\n",
    "        break\n",
    "\n",
    "cap.release()\n",
    "cv2.destroyAllWindows()"
   ]
  }
 ],
 "metadata": {
  "kernelspec": {
   "display_name": "myenv",
   "language": "python",
   "name": "python3"
  },
  "language_info": {
   "codemirror_mode": {
    "name": "ipython",
    "version": 3
   },
   "file_extension": ".py",
   "mimetype": "text/x-python",
   "name": "python",
   "nbconvert_exporter": "python",
   "pygments_lexer": "ipython3",
   "version": "3.11.11"
  }
 },
 "nbformat": 4,
 "nbformat_minor": 5
}
