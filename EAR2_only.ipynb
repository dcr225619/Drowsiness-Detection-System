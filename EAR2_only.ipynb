{
 "cells": [
  {
   "cell_type": "code",
   "execution_count": 1,
   "id": "0ce6d361",
   "metadata": {},
   "outputs": [],
   "source": [
    "from scipy.spatial import distance\n",
    "from imutils import face_utils\n",
    "import dlib\n",
    "import cv2\n",
    "import tensorflow as tf\n",
    "import numpy as np\n",
    "from playsound import playsound"
   ]
  },
  {
   "cell_type": "code",
   "execution_count": 3,
   "id": "0a072e7c",
   "metadata": {},
   "outputs": [],
   "source": [
    "detector = dlib.get_frontal_face_detector()\n",
    "predictor = dlib.shape_predictor(\"shape_predictor_68_face_landmarks.dat\")"
   ]
  },
  {
   "cell_type": "code",
   "execution_count": 4,
   "id": "56472384",
   "metadata": {},
   "outputs": [],
   "source": [
    "LEFT_EYE = list(range(42, 48))\n",
    "RIGHT_EYE = list(range(36, 42))"
   ]
  },
  {
   "cell_type": "code",
   "execution_count": 5,
   "id": "963e5435",
   "metadata": {},
   "outputs": [
    {
     "name": "stderr",
     "output_type": "stream",
     "text": [
      "WARNING:absl:Compiled the loaded model, but the compiled metrics have yet to be built. `model.compile_metrics` will be empty until you train or evaluate the model.\n"
     ]
    }
   ],
   "source": [
    "model = tf.keras.models.load_model(\"fatigue_detection_CNN.h5\")\n",
    "\n",
    "def eye_aspect_ratio(eye):\n",
    "    A = distance.euclidean(eye[1], eye[5])\n",
    "    B = distance.euclidean(eye[2], eye[4])\n",
    "    C = distance.euclidean(eye[0], eye[3])\n",
    "    return (A + B) / (2.0 * C)"
   ]
  },
  {
   "cell_type": "code",
   "execution_count": 7,
   "id": "de5e6482",
   "metadata": {},
   "outputs": [
    {
     "name": "stdout",
     "output_type": "stream",
     "text": [
      "[INFO] Dynamic EAR threshold set to 0.161\n"
     ]
    }
   ],
   "source": [
    "frame_counter = 0\n",
    "init_ear_list = []\n",
    "dynamic_threshold = None\n",
    "EYE_AR_CONSEC_FRAMES = 20\n",
    "INIT_FRAMES = 30\n",
    "EAR_SCALE = 0.6  # EAR threshold is 60% of baseline EAR\n",
    "\n",
    "cap = cv2.VideoCapture(0)\n",
    "\n",
    "while True:\n",
    "    ret, frame = cap.read()\n",
    "    if not ret:\n",
    "        break\n",
    "\n",
    "    gray = cv2.cvtColor(frame, cv2.COLOR_BGR2GRAY)\n",
    "    faces = detector(gray)\n",
    "\n",
    "    status = \"No Face Detected\"\n",
    "    color = (100, 100, 100)\n",
    "\n",
    "    for face in faces:\n",
    "        shape = predictor(gray, face)\n",
    "        shape_np = np.array([(shape.part(i).x, shape.part(i).y) for i in range(68)])\n",
    "\n",
    "        left_eye = shape_np[LEFT_EYE]\n",
    "        right_eye = shape_np[RIGHT_EYE]\n",
    "\n",
    "        avg_EAR = (eye_aspect_ratio(left_eye) + eye_aspect_ratio(right_eye)) / 2.0\n",
    "\n",
    "        cv2.polylines(frame, [left_eye.reshape(-1, 1, 2)], True, (0, 255, 0), 1)\n",
    "        cv2.polylines(frame, [right_eye.reshape(-1, 1, 2)], True, (0, 255, 0), 1)\n",
    "\n",
    "        if dynamic_threshold is None:\n",
    "            if len(init_ear_list) < INIT_FRAMES:\n",
    "                init_ear_list.append(avg_EAR)\n",
    "                status = f\"Collecting initial EAR... ({len(init_ear_list)}/{INIT_FRAMES})\"\n",
    "                color = (255, 255, 0)\n",
    "            else:\n",
    "                baseline_ear = np.mean(init_ear_list)\n",
    "                dynamic_threshold = baseline_ear * EAR_SCALE\n",
    "                print(f\"[INFO] Dynamic EAR threshold set to {dynamic_threshold:.3f}\")\n",
    "                continue  # skip one frame before starting detection\n",
    "        else:\n",
    "            if avg_EAR < dynamic_threshold:\n",
    "                frame_counter += 1\n",
    "                if frame_counter >= EYE_AR_CONSEC_FRAMES:\n",
    "                    status = \"Fatigue Detected!\"\n",
    "                    color = (0, 0, 255)\n",
    "                    # playsound(\"alarm.wav\")\n",
    "                else:\n",
    "                    status = \"Active\"\n",
    "                    color = (0, 255, 0)\n",
    "            else:\n",
    "                frame_counter = 0\n",
    "                status = \"Active\"\n",
    "                color = (0, 255, 0)\n",
    "        \n",
    "        break  # only process one face for now\n",
    "\n",
    "    cv2.putText(frame, status, (50, 50), cv2.FONT_HERSHEY_SIMPLEX, 1, color, 2)\n",
    "    cv2.imshow(\"Fatigue Detection\", frame)\n",
    "\n",
    "    if cv2.waitKey(1) & 0xFF == ord('q'):\n",
    "        break\n",
    "\n",
    "cap.release()\n",
    "cv2.destroyAllWindows()"
   ]
  }
 ],
 "metadata": {
  "kernelspec": {
   "display_name": "myenv",
   "language": "python",
   "name": "python3"
  },
  "language_info": {
   "codemirror_mode": {
    "name": "ipython",
    "version": 3
   },
   "file_extension": ".py",
   "mimetype": "text/x-python",
   "name": "python",
   "nbconvert_exporter": "python",
   "pygments_lexer": "ipython3",
   "version": "3.11.11"
  }
 },
 "nbformat": 4,
 "nbformat_minor": 5
}
